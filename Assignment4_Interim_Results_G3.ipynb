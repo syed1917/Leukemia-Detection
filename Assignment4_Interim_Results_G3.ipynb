{
  "nbformat": 4,
  "nbformat_minor": 0,
  "metadata": {
    "colab": {
      "provenance": []
    },
    "kernelspec": {
      "name": "python3",
      "display_name": "Python 3"
    },
    "language_info": {
      "name": "python"
    }
  },
  "cells": [
    {
      "cell_type": "markdown",
      "source": [
        "#Assignment 4 - Interim Results- Group 3\n",
        "\n",
        "\n"
      ],
      "metadata": {
        "id": "Uv3u4soTU32w"
      }
    },
    {
      "cell_type": "markdown",
      "source": [
        "##1. Installing Libraries"
      ],
      "metadata": {
        "id": "zWuZ0dM0T0xy"
      }
    },
    {
      "cell_type": "code",
      "source": [
        "pip install opencv-python numpy pandas matplotlib scikit-image scipy seaborn"
      ],
      "metadata": {
        "colab": {
          "base_uri": "https://localhost:8080/"
        },
        "id": "tDg-cnr9Tg4P",
        "outputId": "2f8cab6e-8a76-4dae-8763-8c5d9a047b0a"
      },
      "execution_count": 13,
      "outputs": [
        {
          "output_type": "stream",
          "name": "stdout",
          "text": [
            "Requirement already satisfied: opencv-python in /usr/local/lib/python3.11/dist-packages (4.11.0.86)\n",
            "Requirement already satisfied: numpy in /usr/local/lib/python3.11/dist-packages (1.26.4)\n",
            "Requirement already satisfied: pandas in /usr/local/lib/python3.11/dist-packages (2.2.2)\n",
            "Requirement already satisfied: matplotlib in /usr/local/lib/python3.11/dist-packages (3.10.0)\n",
            "Requirement already satisfied: scikit-image in /usr/local/lib/python3.11/dist-packages (0.25.2)\n",
            "Requirement already satisfied: scipy in /usr/local/lib/python3.11/dist-packages (1.14.1)\n",
            "Requirement already satisfied: seaborn in /usr/local/lib/python3.11/dist-packages (0.13.2)\n",
            "Requirement already satisfied: python-dateutil>=2.8.2 in /usr/local/lib/python3.11/dist-packages (from pandas) (2.8.2)\n",
            "Requirement already satisfied: pytz>=2020.1 in /usr/local/lib/python3.11/dist-packages (from pandas) (2025.1)\n",
            "Requirement already satisfied: tzdata>=2022.7 in /usr/local/lib/python3.11/dist-packages (from pandas) (2025.1)\n",
            "Requirement already satisfied: contourpy>=1.0.1 in /usr/local/lib/python3.11/dist-packages (from matplotlib) (1.3.1)\n",
            "Requirement already satisfied: cycler>=0.10 in /usr/local/lib/python3.11/dist-packages (from matplotlib) (0.12.1)\n",
            "Requirement already satisfied: fonttools>=4.22.0 in /usr/local/lib/python3.11/dist-packages (from matplotlib) (4.56.0)\n",
            "Requirement already satisfied: kiwisolver>=1.3.1 in /usr/local/lib/python3.11/dist-packages (from matplotlib) (1.4.8)\n",
            "Requirement already satisfied: packaging>=20.0 in /usr/local/lib/python3.11/dist-packages (from matplotlib) (24.2)\n",
            "Requirement already satisfied: pillow>=8 in /usr/local/lib/python3.11/dist-packages (from matplotlib) (11.1.0)\n",
            "Requirement already satisfied: pyparsing>=2.3.1 in /usr/local/lib/python3.11/dist-packages (from matplotlib) (3.2.1)\n",
            "Requirement already satisfied: networkx>=3.0 in /usr/local/lib/python3.11/dist-packages (from scikit-image) (3.4.2)\n",
            "Requirement already satisfied: imageio!=2.35.0,>=2.33 in /usr/local/lib/python3.11/dist-packages (from scikit-image) (2.37.0)\n",
            "Requirement already satisfied: tifffile>=2022.8.12 in /usr/local/lib/python3.11/dist-packages (from scikit-image) (2025.2.18)\n",
            "Requirement already satisfied: lazy-loader>=0.4 in /usr/local/lib/python3.11/dist-packages (from scikit-image) (0.4)\n",
            "Requirement already satisfied: six>=1.5 in /usr/local/lib/python3.11/dist-packages (from python-dateutil>=2.8.2->pandas) (1.17.0)\n"
          ]
        }
      ]
    },
    {
      "cell_type": "markdown",
      "source": [
        "## 2.Importing Libraries"
      ],
      "metadata": {
        "id": "sFqjbdo1TX7h"
      }
    },
    {
      "cell_type": "code",
      "execution_count": 2,
      "metadata": {
        "id": "V9Jd07ZCA8GK"
      },
      "outputs": [],
      "source": [
        "import os\n",
        "import cv2\n",
        "import numpy as np\n",
        "import pandas as pd\n",
        "import matplotlib.pyplot as plt\n",
        "from skimage.metrics import peak_signal_noise_ratio as psnr\n",
        "from skimage.metrics import structural_similarity as ssim\n",
        "from scipy.stats import f_oneway, kruskal\n",
        "import seaborn as sns"
      ]
    },
    {
      "cell_type": "markdown",
      "source": [
        "##3. Dataset"
      ],
      "metadata": {
        "id": "c6MTc2u4T85U"
      }
    },
    {
      "cell_type": "code",
      "source": [
        "# Define dataset path\n",
        "data_dir = '/content/drive/MyDrive/dataset/ALL_IDB Dataset'\n",
        "subtypes = [\"L1\", \"L2\", \"L3\"]"
      ],
      "metadata": {
        "id": "qZxsAW2cBgoM"
      },
      "execution_count": 5,
      "outputs": []
    },
    {
      "cell_type": "markdown",
      "source": [
        "## 4. Data Loading & Feature Extraction"
      ],
      "metadata": {
        "id": "H-uHKiQeE2RK"
      }
    },
    {
      "cell_type": "code",
      "source": [
        "def load_images_and_features(data_dir, subtypes):\n",
        "    data = []\n",
        "    for subtype in subtypes:\n",
        "        folder_path = os.path.join(data_dir, subtype)\n",
        "        for img_name in os.listdir(folder_path):\n",
        "            img_path = os.path.join(folder_path, img_name)\n",
        "            img = cv2.imread(img_path, cv2.IMREAD_GRAYSCALE)\n",
        "            if img is None:\n",
        "                continue\n",
        "\n",
        "            # Compute features\n",
        "            mean_intensity = np.mean(img)\n",
        "            std_intensity = np.std(img)\n",
        "\n",
        "            # Reference image for PSNR & SSIM (using first image of each subtype as reference)\n",
        "            ref_img = cv2.imread(os.path.join(folder_path, os.listdir(folder_path)[0]), cv2.IMREAD_GRAYSCALE)\n",
        "\n",
        "            if ref_img is not None and img.shape == ref_img.shape:\n",
        "                psnr_value = psnr(ref_img, img)\n",
        "                ssim_value = ssim(ref_img, img)\n",
        "            else:\n",
        "                psnr_value, ssim_value = None, None\n",
        "\n",
        "            data.append([subtype, mean_intensity, std_intensity, psnr_value, ssim_value])\n",
        "\n",
        "    return pd.DataFrame(data, columns=[\"Subtype\", \"Mean Intensity\", \"Std Intensity\", \"PSNR\", \"SSIM\"])\n"
      ],
      "metadata": {
        "id": "ZCpSTVFuDHNQ"
      },
      "execution_count": 6,
      "outputs": []
    },
    {
      "cell_type": "markdown",
      "source": [
        "The function correctly iterates over all images in L1, L2, and L3, extracting:\n",
        "\n",
        "* Mean intensity\n",
        "* Standard deviation\n",
        "* PSNR (Peak Signal-to-Noise Ratio)\n",
        "* SSIM (Structural Similarity Index)\n",
        "\n",
        "\n",
        "It uses the first image of each subtype as the reference for PSNR & SSIM calculations."
      ],
      "metadata": {
        "id": "nFFmCCYLFZsw"
      }
    },
    {
      "cell_type": "markdown",
      "source": [
        "## 5. Summary Statistics"
      ],
      "metadata": {
        "id": "4SCAhBt9Fr-p"
      }
    },
    {
      "cell_type": "code",
      "source": [
        "# Load and compute features\n",
        "df = load_images_and_features(data_dir, subtypes)\n",
        "\n",
        "# Display basic statistics\n",
        "print(df.groupby(\"Subtype\").mean())"
      ],
      "metadata": {
        "colab": {
          "base_uri": "https://localhost:8080/"
        },
        "id": "uvnmIG7ADYSA",
        "outputId": "e6fc6f42-9381-44ef-b07b-cf49f1e2ff76"
      },
      "execution_count": 7,
      "outputs": [
        {
          "output_type": "stream",
          "name": "stderr",
          "text": [
            "/usr/local/lib/python3.11/dist-packages/skimage/metrics/simple_metrics.py:168: RuntimeWarning: divide by zero encountered in scalar divide\n",
            "  return 10 * np.log10((data_range**2) / err)\n"
          ]
        },
        {
          "output_type": "stream",
          "name": "stdout",
          "text": [
            "         Mean Intensity  Std Intensity  PSNR      SSIM\n",
            "Subtype                                               \n",
            "L1           135.331017      13.276608   inf  0.732852\n",
            "L2           139.135948      24.692030   inf  0.662156\n",
            "L3           130.615872      38.850351   inf  0.619352\n"
          ]
        }
      ]
    },
    {
      "cell_type": "markdown",
      "source": [
        "* Displays mean values of extracted features for L1, L2, and L3.\n",
        "* Use describe() instead of mean() to get additional insights."
      ],
      "metadata": {
        "id": "F7sjc5QEFy7K"
      }
    },
    {
      "cell_type": "markdown",
      "source": [
        "**1. Mean Intensity:**\n",
        "* L1 (135.33) and L2 (139.14) have higher intensity values compared to L3 (130.62).\n",
        "* This suggests that L3 images are generally darker, which could indicate differences in staining techniques or cellular composition.\n",
        "\n",
        "**2. Standard Deviation of Intensity:**\n",
        "* L3 (38.85) has the highest standard deviation, meaning it has the most variation in pixel intensity.\n",
        "* L1 (13.28) has the lowest variation, suggesting more uniform brightness across images.\n",
        "* This could imply that L3 images have more structural complexity, possibly due to cell irregularities or varying staining densities.\n",
        "\n",
        "**3. PSNR (Peak Signal-to-Noise Ratio):**\n",
        "* PSNR is inf (infinity) for all subtypes.\n",
        "* This typically happens when the reference image and the compared image are identical (zero error).\n",
        "* Possible reasons:\n",
        "The reference image might have been compared to itself.\n",
        "There is little noise variation across the images.\n",
        "\n",
        "**4. SSIM (Structural Similarity Index):**\n",
        "* L1 (0.7328) has the highest structural similarity, meaning its images are more consistent in texture and structure.\n",
        "* L3 (0.6194) has the lowest SSIM, indicating more structural differences among its images.\n",
        "* This aligns with L3’s high standard deviation, reinforcing the idea that L3 images are more diverse and structurally complex.\n",
        "\n",
        "\n",
        "**Final Interpretation:**\n",
        "* L3 images show more intensity variation and lower structural similarity, which may indicate greater heterogeneity in leukemia subtype L3 compared to L1 and L2.\n",
        "* L1 images are the most uniform in intensity and structure, which could imply a more consistent cell morphology.\n",
        "* L2 is intermediate, showing moderate variation."
      ],
      "metadata": {
        "id": "_685v9TjGxzY"
      }
    },
    {
      "cell_type": "markdown",
      "source": [
        "## 6. Statistical Tests"
      ],
      "metadata": {
        "id": "COdr_2XAPB2a"
      }
    },
    {
      "cell_type": "markdown",
      "source": [
        "* ANOVA test correctly assesses if there are statistically significant differences in Mean Intensity, Std Intensity, PSNR, and SSIM across leukemia subtypes.\n",
        "\n",
        "* **P-value Interpretation:**\n",
        "\n",
        "* If p < 0.05, differences are statistically significant.\n",
        "* If p > 0.05, differences are not significant."
      ],
      "metadata": {
        "id": "lrHNsomYPKjY"
      }
    },
    {
      "cell_type": "code",
      "source": [
        "# Perform statistical tests\n",
        "anova_results = {}\n",
        "for feature in [\"Mean Intensity\", \"Std Intensity\", \"PSNR\", \"SSIM\"]:\n",
        "    groups = [df[df[\"Subtype\"] == s][feature].dropna() for s in subtypes]\n",
        "    anova_results[feature] = f_oneway(*groups)\n",
        "# Print ANOVA results\n",
        "for feature, result in anova_results.items():\n",
        "    print(f\"{feature}: F-statistic = {result.statistic:.4f}, p-value = {result.pvalue:.4f}\")"
      ],
      "metadata": {
        "colab": {
          "base_uri": "https://localhost:8080/"
        },
        "id": "FfGFpPhTDln0",
        "outputId": "a5f39fd4-aafa-4851-c022-3465b274e187"
      },
      "execution_count": 12,
      "outputs": [
        {
          "output_type": "stream",
          "name": "stdout",
          "text": [
            "Mean Intensity: F-statistic = 7.5944, p-value = 0.0007\n",
            "Std Intensity: F-statistic = 599.9798, p-value = 0.0000\n",
            "PSNR: F-statistic = nan, p-value = nan\n",
            "SSIM: F-statistic = 46.4952, p-value = 0.0000\n"
          ]
        }
      ]
    },
    {
      "cell_type": "markdown",
      "source": [
        "**Interpretation of ANOVA Results:**\n",
        "\n",
        "**1. Mean Intensity:**\n",
        "* F-statistic = 7.5944, p-value = 0.0007\n",
        "* Since p < 0.05, the difference in mean intensity is statistically significant.\n",
        "* This confirms that L1, L2, and L3 have different intensity distributions.\n",
        "\n",
        "**2. Standard Deviation of Intensity:**\n",
        "* F-statistic = 599.9798, p-value = 0.0000\n",
        "* Extremely significant difference (p ≈ 0).\n",
        "* Suggests that intensity variation differs widely among leukemia subtypes, with L3 showing the most variation.\n",
        "\n",
        "**3. PSNR(Peak Signal-to-Noise Ratio):**\n",
        "* F-statistic = NaN, p-value = NaN\n",
        "* Likely caused by infinity (inf) values in PSNR calculations.\n",
        "* This suggests that PSNR is not a reliable metric for this dataset due to improper reference image selection or minimal noise differences.\n",
        "\n",
        "**4. SSIM (Structural Similarity Index):**\n",
        "* F-statistic = 46.4952, p-value = 0.0000\n",
        "* Very strong statistical significance (p ≈ 0).\n",
        "* This confirms that image structure varies significantly across leukemia subtypes, with L3 being the most structurally diverse.\n",
        "\n",
        "**Final Conclusion:**\n",
        "* H₀ (no differences in image properties across subtypes) is rejected.\n",
        "* H₁ (differences exist) is supported, meaning structural and intensity features significantly differ across leukemia subtypes.\n",
        "* PSNR is unreliable and should be replaced with another metric."
      ],
      "metadata": {
        "id": "TSdbPzskPkE-"
      }
    },
    {
      "cell_type": "markdown",
      "source": [
        "## 7. Visualization"
      ],
      "metadata": {
        "id": "7XkvyoROQrng"
      }
    },
    {
      "cell_type": "code",
      "source": [
        "# Visualization\n",
        "plt.figure(figsize=(12, 6))\n",
        "for i, feature in enumerate([\"Mean Intensity\", \"Std Intensity\", \"PSNR\", \"SSIM\"], 1):\n",
        "    plt.subplot(2, 2, i)\n",
        "    sns.boxplot(x=\"Subtype\", y=feature, data=df)\n",
        "    plt.title(f\"Distribution of {feature} Across Subtypes\")\n",
        "plt.tight_layout()\n",
        "plt.show()"
      ],
      "metadata": {
        "colab": {
          "base_uri": "https://localhost:8080/",
          "height": 607
        },
        "id": "dQozan_CDpC2",
        "outputId": "f56cd5cd-58e9-4027-8acf-6403156546b4"
      },
      "execution_count": 10,
      "outputs": [
        {
          "output_type": "display_data",
          "data": {
            "text/plain": [
              "<Figure size 1200x600 with 4 Axes>"
            ],
            "image/png": "[encoded data removed]"
          },
          "metadata": {}
        }
      ]
    },
    {
      "cell_type": "markdown",
      "source": [
        "**Summary of Boxplot Analysis:**\n",
        "\n",
        "* Mean Intensity: L1 has the widest range, L2 is more consistent, and L3 is the darkest, confirming significant intensity differences across subtypes.\n",
        "* Standard Deviation: L3 has the highest variation, L1 is the most uniform, and L2 is intermediate, showing distinct variability patterns.\n",
        "* PSNR: L1 has the highest PSNR, meaning it is structurally closer to the reference, while L3 deviates the most, confirming image quality differences.\n",
        "* SSIM: L1 images are the most structurally similar, while L3 shows the most diversity, indicating significant structural variation across subtypes."
      ],
      "metadata": {
        "id": "__FQGinSRGZ8"
      }
    },
    {
      "cell_type": "markdown",
      "source": [
        "##8. Summary of Conclusion:\n",
        "* The exploratory data analysis (EDA) confirms that leukemia subtypes (L1, L2, L3) exhibit significant differences in structural and intensity features.\n",
        "* Statistical tests show that Mean Intensity (p = 0.0007), Standard Deviation (p = 0.0000), and SSIM (p = 0.0000) vary significantly across subtypes, rejecting the null hypothesis (H₀).\n",
        "* L1 has the most uniform intensity, while L3 shows the highest variability, indicating structural complexity.\n",
        "\n",
        "* PSNR results were unreliable due to inf values, suggesting an issue with reference image selection.\n",
        "* Overall, the **alternative hypothesis (H₁) is supported**, confirming that image properties differ across leukemia subtypes.\n",
        "* This implies that intensity and structural differences could be useful for classification and diagnosis."
      ],
      "metadata": {
        "id": "gtj0SjP5R8Sx"
      }
    }
  ]
}